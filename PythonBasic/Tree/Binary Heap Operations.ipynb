{
 "cells": [
  {
   "cell_type": "markdown",
   "metadata": {},
   "source": [
    "# Binary Heap Operations"
   ]
  },
  {
   "cell_type": "code",
   "execution_count": 107,
   "metadata": {},
   "outputs": [],
   "source": [
    "class BinHeap:\n",
    "    def __init__(self,value):\n",
    "        self.heapList = [value]\n",
    "        self.currentSize = 0\n",
    "    def HeapInsert(self,value):\n",
    "        self.heapList.append(value)\n",
    "        self.currentSize = self.currentSize + 1\n",
    "    def HeapBubbleUp(self):\n",
    "        temp = self.currentSize\n",
    "\n",
    "        while self.heapList[(temp-1)//2] > self.heapList [temp]:\n",
    "            temp1 = self.heapList[(temp-1)//2]\n",
    "            self.heapList[(temp-1)//2] = self.heapList [temp]\n",
    "            self.heapList [temp] = temp1        \n",
    "            print(temp)           \n",
    "            temp = (temp-1)//2\n",
    "    def RemoveRoot(self):\n",
    "        if self.currentSize == 0:\n",
    "             return []\n",
    "        else:\n",
    "            returnVal = self.heapList[0]\n",
    "            self.heapList[0] = self.heapList.pop()\n",
    "            self.currentSize = self.currentSize -1 \n",
    "            return returnVal\n",
    "    def HeapBubbleDown(self):\n",
    "        temp = self.currentSize\n",
    "        currentIndex = 0 \n",
    "\n",
    "\n",
    "    "
   ]
  },
  {
   "cell_type": "code",
   "execution_count": 108,
   "metadata": {},
   "outputs": [],
   "source": [
    "t = BinHeap(1)"
   ]
  },
  {
   "cell_type": "code",
   "execution_count": 109,
   "metadata": {},
   "outputs": [
    {
     "data": {
      "text/plain": [
       "[1, 4, 15, 35, 25, 10, 3]"
      ]
     },
     "execution_count": 109,
     "metadata": {},
     "output_type": "execute_result"
    }
   ],
   "source": [
    "t.HeapInsert(4)\n",
    "t.HeapInsert(15)\n",
    "t.HeapInsert(35)\n",
    "t.HeapInsert(25)\n",
    "t.HeapInsert(10)\n",
    "t.HeapInsert(3)\n",
    "\n",
    "t.heapList"
   ]
  },
  {
   "cell_type": "code",
   "execution_count": 110,
   "metadata": {},
   "outputs": [
    {
     "name": "stdout",
     "output_type": "stream",
     "text": [
      "6\n"
     ]
    }
   ],
   "source": [
    "t.HeapBubbleUp()"
   ]
  },
  {
   "cell_type": "code",
   "execution_count": 114,
   "metadata": {},
   "outputs": [
    {
     "data": {
      "text/plain": [
       "[15, 4, 3, 35, 25, 10]"
      ]
     },
     "execution_count": 114,
     "metadata": {},
     "output_type": "execute_result"
    }
   ],
   "source": [
    "t.heapList"
   ]
  },
  {
   "cell_type": "code",
   "execution_count": 115,
   "metadata": {},
   "outputs": [
    {
     "data": {
      "text/plain": [
       "[10, 4, 3, 35, 25]"
      ]
     },
     "execution_count": 115,
     "metadata": {},
     "output_type": "execute_result"
    }
   ],
   "source": [
    "t.RemoveRoot()\n",
    "t.heapList"
   ]
  },
  {
   "cell_type": "code",
   "execution_count": 116,
   "metadata": {},
   "outputs": [
    {
     "data": {
      "text/plain": [
       "[25, 4, 3, 35]"
      ]
     },
     "execution_count": 116,
     "metadata": {},
     "output_type": "execute_result"
    }
   ],
   "source": [
    "t.RemoveRoot()\n",
    "t.heapList"
   ]
  },
  {
   "cell_type": "code",
   "execution_count": 117,
   "metadata": {},
   "outputs": [
    {
     "data": {
      "text/plain": [
       "[35, 4, 3]"
      ]
     },
     "execution_count": 117,
     "metadata": {},
     "output_type": "execute_result"
    }
   ],
   "source": [
    "t.RemoveRoot()\n",
    "t.heapList"
   ]
  },
  {
   "cell_type": "code",
   "execution_count": 118,
   "metadata": {},
   "outputs": [
    {
     "data": {
      "text/plain": [
       "[3, 4]"
      ]
     },
     "execution_count": 118,
     "metadata": {},
     "output_type": "execute_result"
    }
   ],
   "source": [
    "t.RemoveRoot()\n",
    "t.heapList"
   ]
  },
  {
   "cell_type": "code",
   "execution_count": null,
   "metadata": {},
   "outputs": [],
   "source": []
  }
 ],
 "metadata": {
  "kernelspec": {
   "display_name": "Python 3",
   "language": "python",
   "name": "python3"
  },
  "language_info": {
   "codemirror_mode": {
    "name": "ipython",
    "version": 3
   },
   "file_extension": ".py",
   "mimetype": "text/x-python",
   "name": "python",
   "nbconvert_exporter": "python",
   "pygments_lexer": "ipython3",
   "version": "3.6.1"
  }
 },
 "nbformat": 4,
 "nbformat_minor": 2
}
