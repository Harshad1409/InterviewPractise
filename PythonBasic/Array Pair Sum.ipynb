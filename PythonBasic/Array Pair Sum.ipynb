{
 "cells": [
  {
   "cell_type": "markdown",
   "metadata": {},
   "source": [
    "# Array Pair Sum "
   ]
  },
  {
   "cell_type": "code",
   "execution_count": 84,
   "metadata": {},
   "outputs": [],
   "source": [
    "def pair_sum(a,value):\n",
    "    front = 0\n",
    "    back = len(a) - 1 \n",
    "    pair = 0\n",
    "    a = sorted(a)\n",
    "    print(a)\n",
    "    \n",
    "    while front < back:\n",
    "        if (a[front] + a[back]) > value:\n",
    "            back = back - 1\n",
    "        elif(a[front] + a[back]) == value:\n",
    "            front = front + 1\n",
    "            back = back - 1\n",
    "            pair = pair + 1\n",
    "        else:\n",
    "            front = front + 1\n",
    "    return pair"
   ]
  },
  {
   "cell_type": "code",
   "execution_count": null,
   "metadata": {},
   "outputs": [],
   "source": []
  },
  {
   "cell_type": "code",
   "execution_count": 85,
   "metadata": {
    "scrolled": true
   },
   "outputs": [
    {
     "name": "stdout",
     "output_type": "stream",
     "text": [
      "[1]\n"
     ]
    },
    {
     "data": {
      "text/plain": [
       "0"
      ]
     },
     "execution_count": 85,
     "metadata": {},
     "output_type": "execute_result"
    }
   ],
   "source": [
    "pair_sum([1],4)"
   ]
  },
  {
   "cell_type": "code",
   "execution_count": 89,
   "metadata": {},
   "outputs": [],
   "source": [
    "def pair_sum1(arr,k):\n",
    "    seen = set()\n",
    "    output = set()\n",
    "    \n",
    "    if len(arr) < 2:\n",
    "        return 0\n",
    "    \n",
    "    for num in arr:\n",
    "        target = k - num\n",
    "        if target not in seen:\n",
    "            seen.add(num)\n",
    "        else:\n",
    "            output.add(((min(num,target),max(num,target))))\n",
    "    print('\\n'.join(map(str,list(output))))\n",
    "    "
   ]
  },
  {
   "cell_type": "code",
   "execution_count": 90,
   "metadata": {},
   "outputs": [
    {
     "name": "stdout",
     "output_type": "stream",
     "text": [
      "(1, 3)\n",
      "(2, 2)\n"
     ]
    }
   ],
   "source": [
    "pair_sum1([1,1,2,2,3,3],4)"
   ]
  },
  {
   "cell_type": "code",
   "execution_count": 88,
   "metadata": {},
   "outputs": [
    {
     "name": "stdout",
     "output_type": "stream",
     "text": [
      "[1, 1, 2, 3]\n",
      "[1, 2, 2, 3]\n",
      "[-1, 1, 2, 3, 4, 5, 5, 6, 7, 8, 9, 11, 13, 14]\n"
     ]
    }
   ],
   "source": [
    "from nose.tools import assert_equal\n",
    "\n",
    "class TestPair(object):\n",
    "    def test(test,sol):\n",
    "        assert_equal(pair_sum([1,2,3,1],4),1)\n",
    "        assert_equal(pair_sum([1,3,2,2],4),2)\n",
    "        assert_equal(pair_sum([1,9,2,8,3,7,4,6,5,5,13,14,11,-1],10),6)\n",
    "# Run Test\n",
    "t = TestPair()\n",
    "t.test(pair_sum)"
   ]
  },
  {
   "cell_type": "code",
   "execution_count": null,
   "metadata": {},
   "outputs": [],
   "source": []
  },
  {
   "cell_type": "code",
   "execution_count": null,
   "metadata": {},
   "outputs": [],
   "source": []
  }
 ],
 "metadata": {
  "kernelspec": {
   "display_name": "Python 3",
   "language": "python",
   "name": "python3"
  },
  "language_info": {
   "codemirror_mode": {
    "name": "ipython",
    "version": 3
   },
   "file_extension": ".py",
   "mimetype": "text/x-python",
   "name": "python",
   "nbconvert_exporter": "python",
   "pygments_lexer": "ipython3",
   "version": "3.6.1"
  }
 },
 "nbformat": 4,
 "nbformat_minor": 2
}
