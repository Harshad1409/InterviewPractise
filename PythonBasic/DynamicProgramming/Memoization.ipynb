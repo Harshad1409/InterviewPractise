{
 "cells": [
  {
   "cell_type": "markdown",
   "metadata": {},
   "source": [
    "# Memoization"
   ]
  },
  {
   "cell_type": "code",
   "execution_count": 9,
   "metadata": {},
   "outputs": [
    {
     "name": "stdout",
     "output_type": "stream",
     "text": [
      "computing expensive function\n",
      "4\n",
      "computing expensive function\n",
      "9\n",
      "4\n",
      "9\n"
     ]
    }
   ],
   "source": [
    "import time\n",
    "en_cache = {}\n",
    "\n",
    "def expensiveFunc(value):\n",
    "    if value in en_cache:\n",
    "        return en_cache[value]\n",
    "    else:\n",
    "        print(\"computing expensive function\")\n",
    "        time.sleep(1)\n",
    "        en_cache[value] = value*value\n",
    "        return value*value\n",
    "\n",
    "print(expensiveFunc(2))\n",
    "print(expensiveFunc(3))\n",
    "print(expensiveFunc(2))\n",
    "print(expensiveFunc(3))"
   ]
  },
  {
   "cell_type": "code",
   "execution_count": null,
   "metadata": {},
   "outputs": [],
   "source": []
  },
  {
   "cell_type": "code",
   "execution_count": null,
   "metadata": {},
   "outputs": [],
   "source": []
  }
 ],
 "metadata": {
  "kernelspec": {
   "display_name": "Python 3",
   "language": "python",
   "name": "python3"
  },
  "language_info": {
   "codemirror_mode": {
    "name": "ipython",
    "version": 3
   },
   "file_extension": ".py",
   "mimetype": "text/x-python",
   "name": "python",
   "nbconvert_exporter": "python",
   "pygments_lexer": "ipython3",
   "version": "3.6.1"
  }
 },
 "nbformat": 4,
 "nbformat_minor": 2
}
