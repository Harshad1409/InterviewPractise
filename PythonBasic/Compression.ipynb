{
 "cells": [
  {
   "cell_type": "code",
   "execution_count": null,
   "metadata": {},
   "outputs": [],
   "source": [
    "def compress(str):\n",
    "    print(str)\n",
    "    if len(str) == 0:\n",
    "        return \"\"\n",
    "    if len(str) == 1:\n",
    "        return str[0]+ \"1\"\n",
    "\n",
    "    i = 1 \n",
    "    count = 0\n",
    "    str1 = ''\n",
    "    while ( i < len(str)):\n",
    "        if str[i] != str[i-1]:\n",
    "            str1 = str1 + str[i-1]\n",
    "            count = 0\n",
    "        else:\n",
    "            count = count + 1\n",
    "        if count == 0 or i == len(str):\n",
    "            str1 = str1 + \"*\"\n",
    "    print(str1)return str1"
   ]
  },
  {
   "cell_type": "code",
   "execution_count": null,
   "metadata": {},
   "outputs": [],
   "source": [
    "print('ABC')"
   ]
  },
  {
   "cell_type": "code",
   "execution_count": null,
   "metadata": {},
   "outputs": [],
   "source": [
    "compress('AAAAAAAaaaaaNNNNNNNbbbbbbb')"
   ]
  },
  {
   "cell_type": "code",
   "execution_count": null,
   "metadata": {},
   "outputs": [],
   "source": [
    "def compress(str):\n",
    "    print(str)"
   ]
  },
  {
   "cell_type": "code",
   "execution_count": null,
   "metadata": {},
   "outputs": [],
   "source": [
    "compress('Abad')"
   ]
  },
  {
   "cell_type": "code",
   "execution_count": null,
   "metadata": {},
   "outputs": [],
   "source": [
    "print('ABC')"
   ]
  },
  {
   "cell_type": "code",
   "execution_count": null,
   "metadata": {},
   "outputs": [],
   "source": []
  }
 ],
 "metadata": {
  "kernelspec": {
   "display_name": "Python 3",
   "language": "python",
   "name": "python3"
  },
  "language_info": {
   "codemirror_mode": {
    "name": "ipython",
    "version": 3
   },
   "file_extension": ".py",
   "mimetype": "text/x-python",
   "name": "python",
   "nbconvert_exporter": "python",
   "pygments_lexer": "ipython3",
   "version": "3.6.1"
  }
 },
 "nbformat": 4,
 "nbformat_minor": 2
}
